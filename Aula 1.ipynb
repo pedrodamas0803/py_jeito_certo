{
 "cells": [
  {
   "cell_type": "code",
   "execution_count": 20,
   "metadata": {},
   "outputs": [
    {
     "name": "stdout",
     "output_type": "stream",
     "text": [
      "Qual sua idade?\n",
      "115\n"
     ]
    }
   ],
   "source": [
    "idade = int(input('Qual sua idade?\\n'))"
   ]
  },
  {
   "cell_type": "code",
   "execution_count": 21,
   "metadata": {},
   "outputs": [
    {
     "name": "stdout",
     "output_type": "stream",
     "text": [
      "voto facultativo\n"
     ]
    }
   ],
   "source": [
    "# idade = 13\n",
    "if idade >= 18 and idade <= 70:\n",
    "    print('é obrigado a votar')\n",
    "elif idade >= 16:\n",
    "    print('voto facultativo')\n",
    "else:\n",
    "    print('não pode votar')"
   ]
  },
  {
   "cell_type": "markdown",
   "metadata": {},
   "source": [
    "## Exercício 1"
   ]
  },
  {
   "cell_type": "code",
   "execution_count": 52,
   "metadata": {},
   "outputs": [
    {
     "name": "stdout",
     "output_type": "stream",
     "text": [
      "Digite um número inteiro\n",
      "15\n",
      "nao eh primo\n",
      "nao eh primo\n",
      "nao eh primo\n",
      "nao eh primo\n",
      "nao eh primo\n",
      "nao eh primo\n",
      "nao eh primo\n",
      "nao eh primo\n",
      "nao eh primo\n",
      "nao eh primo\n",
      "nao eh primo\n",
      "nao eh primo\n",
      "nao eh primo\n",
      "eh primo\n",
      "nao eh primo\n",
      "nao eh primo\n"
     ]
    }
   ],
   "source": [
    "# determina se um número é primo\n",
    "\n",
    "numero = int(input('Digite um número inteiro\\n'))\n",
    "\n",
    "for num in range(numero):      \n",
    "    if (num % (k+1) == 0 and num == (k+1)) and num > 1:\n",
    "        print('eh primo')\n",
    "    else:\n",
    "        pass\n",
    "    print('nao eh primo')"
   ]
  },
  {
   "cell_type": "code",
   "execution_count": null,
   "metadata": {},
   "outputs": [],
   "source": []
  },
  {
   "cell_type": "code",
   "execution_count": null,
   "metadata": {},
   "outputs": [],
   "source": []
  }
 ],
 "metadata": {
  "kernelspec": {
   "display_name": "Python 3",
   "language": "python",
   "name": "python3"
  },
  "language_info": {
   "codemirror_mode": {
    "name": "ipython",
    "version": 3
   },
   "file_extension": ".py",
   "mimetype": "text/x-python",
   "name": "python",
   "nbconvert_exporter": "python",
   "pygments_lexer": "ipython3",
   "version": "3.7.6"
  }
 },
 "nbformat": 4,
 "nbformat_minor": 4
}
