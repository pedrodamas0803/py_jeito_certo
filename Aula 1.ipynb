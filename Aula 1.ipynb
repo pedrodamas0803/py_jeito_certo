{
 "cells": [
  {
   "cell_type": "code",
   "execution_count": 15,
   "metadata": {},
   "outputs": [
    {
     "name": "stdout",
     "output_type": "stream",
     "text": [
      "Qual sua idade?\n",
      "115\n"
     ]
    }
   ],
   "source": [
    "idade = int(input('Qual sua idade?\\n'))"
   ]
  },
  {
   "cell_type": "code",
   "execution_count": 16,
   "metadata": {},
   "outputs": [
    {
     "name": "stdout",
     "output_type": "stream",
     "text": [
      "não precisa votar\n"
     ]
    }
   ],
   "source": [
    "# idade = 13\n",
    "if idade >= 18 and idade <= 70:\n",
    "    print('é obrigado a votar')\n",
    "elif idade >= 16 and idade < 18 | idade > 70:\n",
    "    print('voto facultativo')\n",
    "else:\n",
    "    print('não precisa votar')"
   ]
  },
  {
   "cell_type": "code",
   "execution_count": null,
   "metadata": {},
   "outputs": [],
   "source": []
  }
 ],
 "metadata": {
  "kernelspec": {
   "display_name": "Python 3",
   "language": "python",
   "name": "python3"
  },
  "language_info": {
   "codemirror_mode": {
    "name": "ipython",
    "version": 3
   },
   "file_extension": ".py",
   "mimetype": "text/x-python",
   "name": "python",
   "nbconvert_exporter": "python",
   "pygments_lexer": "ipython3",
   "version": "3.7.6"
  }
 },
 "nbformat": 4,
 "nbformat_minor": 4
}
