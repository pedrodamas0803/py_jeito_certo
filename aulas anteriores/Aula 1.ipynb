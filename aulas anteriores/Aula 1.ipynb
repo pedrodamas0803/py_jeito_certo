{
 "cells": [
  {
   "cell_type": "code",
   "execution_count": 20,
   "metadata": {},
   "outputs": [
    {
     "name": "stdout",
     "output_type": "stream",
     "text": [
      "Qual sua idade?\n",
      "115\n"
     ]
    }
   ],
   "source": [
    "idade = int(input('Qual sua idade?\\n'))"
   ]
  },
  {
   "cell_type": "code",
   "execution_count": 21,
   "metadata": {},
   "outputs": [
    {
     "name": "stdout",
     "output_type": "stream",
     "text": [
      "voto facultativo\n"
     ]
    }
   ],
   "source": [
    "# idade = 13\n",
    "if idade >= 18 and idade <= 70:\n",
    "    print('é obrigado a votar')\n",
    "elif idade >= 16:\n",
    "    print('voto facultativo')\n",
    "else:\n",
    "    print('não pode votar')"
   ]
  },
  {
   "cell_type": "markdown",
   "metadata": {},
   "source": [
    "## Exercício 1"
   ]
  },
  {
   "cell_type": "code",
   "execution_count": 2,
   "metadata": {},
   "outputs": [
    {
     "output_type": "stream",
     "name": "stdout",
     "text": [
      "eh ímpar\n"
     ]
    }
   ],
   "source": [
    "# determina se um número é par\n",
    "\n",
    "numero = int(input('Digite um número inteiro\\n'))\n",
    "\n",
    "    \n",
    "if numero % 2 != 0:\n",
    "    print('eh ímpar')\n",
    "else:\n",
    "    print('nao eh primo')"
   ]
  },
  {
   "cell_type": "code",
   "execution_count": 3,
   "metadata": {},
   "outputs": [
    {
     "output_type": "stream",
     "name": "stdout",
     "text": [
      "Triangulo impossivel\n"
     ]
    }
   ],
   "source": [
    "# P1 - Área do triângulo\n",
    "# |L1 -L2| < L3 < L1 + L2\n",
    "\n",
    "def verifica_lado(a, b, c):\n",
    "    if abs(b - c) < a and a < b + c:\n",
    "        return True\n",
    "    else:\n",
    "        return False\n",
    "\n",
    "a = float(input('Lado 1: '))\n",
    "b = float(input('Lado 2: '))\n",
    "c = float(input('Lado 3: '))\n",
    "\n",
    "if verifica_lado(a, b, c) and verifica_lado(b, a, c) and verifica_lado(c, a, b):\n",
    "    \n",
    "    p = (a + b + c)/2\n",
    "\n",
    "    area = (p * (p - a) * (p - b) * (p - c))**(0.5)\n",
    "    print('Area é:', area)\n",
    "else:\n",
    "    print('Triangulo impossivel')"
   ]
  },
  {
   "source": [
    "### P2 - Pedra, papel e tesoura"
   ],
   "cell_type": "markdown",
   "metadata": {}
  },
  {
   "cell_type": "code",
   "execution_count": null,
   "metadata": {},
   "outputs": [],
   "source": [
    "print('Pedra, papel e tesoura!')\n",
    "\n",
    "jogador1 = input('Jogador 1 escolhe entre pedra, papel ou tesoura:')\n",
    "\n",
    "jogador2 = input('jogador 2 escolhe entre pedra, papel ou tesoura:')\n",
    "\n"
   ]
  }
 ],
 "metadata": {
  "kernelspec": {
   "display_name": "Python 3",
   "language": "python",
   "name": "python3"
  },
  "language_info": {
   "codemirror_mode": {
    "name": "ipython",
    "version": 3
   },
   "file_extension": ".py",
   "mimetype": "text/x-python",
   "name": "python",
   "nbconvert_exporter": "python",
   "pygments_lexer": "ipython3",
   "version": "3.8.5-final"
  }
 },
 "nbformat": 4,
 "nbformat_minor": 4
}