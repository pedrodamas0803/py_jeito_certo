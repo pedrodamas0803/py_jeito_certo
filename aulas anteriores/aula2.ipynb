{
 "metadata": {
  "language_info": {
   "codemirror_mode": {
    "name": "ipython",
    "version": 3
   },
   "file_extension": ".py",
   "mimetype": "text/x-python",
   "name": "python",
   "nbconvert_exporter": "python",
   "pygments_lexer": "ipython3",
   "version": "3.8.5-final"
  },
  "orig_nbformat": 2,
  "kernelspec": {
   "name": "python38564bit553a9efa42d34c4dbe04815f96836353",
   "display_name": "Python 3.8.5 64-bit"
  }
 },
 "nbformat": 4,
 "nbformat_minor": 2,
 "cells": [
  {
   "source": [
    "## Repetições (iterações) condicionais"
   ],
   "cell_type": "markdown",
   "metadata": {}
  },
  {
   "cell_type": "code",
   "execution_count": null,
   "metadata": {
    "tags": []
   },
   "outputs": [],
   "source": [
    "# while loops\n",
    "numero = 7\n",
    "while numero > 0:\n",
    "    print(numero)\n",
    "    numero = numero - 1"
   ]
  },
  {
   "cell_type": "code",
   "execution_count": null,
   "metadata": {},
   "outputs": [],
   "source": [
    "idade = int(input('Digite sua idade:\\n'))\n",
    "if idade >= 18 and idade < 70:\n",
    "    print(f'Com {idade} anos, obrigatório')\n",
    "elif idade >= 16:\n",
    "    print(f'Com {idade} anos, facultativo')\n",
    "else:\n",
    "    print(f'Com {idade} anos, não pode votar')"
   ]
  },
  {
   "cell_type": "code",
   "execution_count": null,
   "metadata": {},
   "outputs": [],
   "source": [
    "repetir = True\n",
    "while repetir == True:\n",
    "    idade = int(input('Digite sua idade:\\n'))\n",
    "    if idade >= 18 and idade < 70:\n",
    "        print(f'Com {idade} anos, obrigatório')\n",
    "    elif idade >= 16:\n",
    "        print(f'Com {idade} anos, facultativo')\n",
    "    else:\n",
    "        print(f'Com {idade} anos, não pode votar')\n",
    "    resposta = input('Deseja repetir? (s/n')\n",
    "    if resposta != 'n':\n",
    "        repetir = False"
   ]
  },
  {
   "source": [
    "## Lista de dados"
   ],
   "cell_type": "markdown",
   "metadata": {}
  },
  {
   "cell_type": "code",
   "execution_count": null,
   "metadata": {},
   "outputs": [],
   "source": [
    "idades = [12, 47, 78, 8, 18, 98, 16]\n",
    "\n",
    "misc = [15, 'biscoito', True, 67.9 , 'Teste']\n",
    "\n",
    "print(idades[1])\n",
    "print(misc[1])"
   ]
  },
  {
   "source": [
    "## Iterações definidas for"
   ],
   "cell_type": "markdown",
   "metadata": {}
  },
  {
   "cell_type": "code",
   "execution_count": null,
   "metadata": {},
   "outputs": [],
   "source": [
    "idades = [12, 47, 78, 8, 18, 98, 16]\n",
    "\n",
    "for idade in idades:\n",
    "    if idade >= 18 and idade < 70:\n",
    "        print(f'Com {idade} anos, obrigatório')\n",
    "    elif idade >= 16:\n",
    "        print(f'Com {idade} anos, facultativo')\n",
    "    else:\n",
    "        print(f'Com {idade} anos, não pode votar')"
   ]
  },
  {
   "cell_type": "code",
   "execution_count": null,
   "metadata": {},
   "outputs": [],
   "source": [
    "for i in range(3, 8):\n",
    "    print(i)"
   ]
  },
  {
   "cell_type": "code",
   "execution_count": null,
   "metadata": {},
   "outputs": [],
   "source": [
    "idades = [12, 47, 78, 8, 18]\n",
    "nomes = ['João', 'Maria', 'Severina', 'Pedro', 'Rebeca']\n",
    "\n",
    "for i in range(len(nomes)):\n",
    "    print( f'{nomes[i]} tem {idades[i]} anos')"
   ]
  },
  {
   "source": [
    "## Strings\n",
    "\n",
    "Strings são imutáveis! Não é possível atribuir valores a posições das strings, embora seja possível iterar sobre strings."
   ],
   "cell_type": "markdown",
   "metadata": {}
  },
  {
   "cell_type": "code",
   "execution_count": null,
   "metadata": {},
   "outputs": [],
   "source": [
    "frase = 'Em noite de lua cheia...'\n",
    "\n",
    "for i in frase:\n",
    "    print(i)\n",
    "\n",
    "for i in range(len(frase)):\n",
    "    print(frase[i])\n",
    "\n",
    "    "
   ]
  },
  {
   "source": [
    "## Exercícios\n"
   ],
   "cell_type": "markdown",
   "metadata": {}
  },
  {
   "cell_type": "code",
   "execution_count": 32,
   "metadata": {},
   "outputs": [
    {
     "output_type": "stream",
     "name": "stdout",
     "text": [
      "O maior elemento é 999.0\n"
     ]
    }
   ],
   "source": [
    "# Faça um programa que recebe uma lista de números reais e exibe o seu maior elemento.\n",
    "\n",
    "lista = []\n",
    "condicao = True\n",
    "while condicao == True:\n",
    "    pos = float(input('Entre um número real:'))\n",
    "    lista.append(pos)\n",
    "    resposta = input('Deseja adicionar mais um item? s/n')\n",
    "    if resposta != 's':\n",
    "        condicao = False\n",
    "\n",
    "maior = 1E-9\n",
    "for elem in lista:\n",
    "    if elem > maior:\n",
    "        maior = elem\n",
    "print(f'O maior elemento é {maior}')"
   ]
  },
  {
   "cell_type": "code",
   "execution_count": 35,
   "metadata": {},
   "outputs": [
    {
     "output_type": "stream",
     "name": "stdout",
     "text": [
      "A média dos números é 4.0\n"
     ]
    }
   ],
   "source": [
    "# Faça um programa que recebe uma lista de números reais e exibe sua média.\n",
    "\n",
    "lista2 = []\n",
    "cond = True\n",
    "while cond == True:\n",
    "    pos1 = float(input('Digite um número real:'))\n",
    "    lista2.append(pos1)\n",
    "    resp = input('deseja continuar adicionando numeros? (s/n)')\n",
    "    if resp != 's':\n",
    "        cond = False\n",
    "soma = 0\n",
    "for elem in lista2:\n",
    "    soma = soma + elem\n",
    "\n",
    "media = soma/len(lista2)\n",
    "print(f'A média dos números é {media}')\n"
   ]
  },
  {
   "cell_type": "code",
   "execution_count": 37,
   "metadata": {},
   "outputs": [
    {
     "output_type": "stream",
     "name": "stdout",
     "text": [
      "A soma dos pares é 16, o produto dos impares é 189\n"
     ]
    }
   ],
   "source": [
    "# Dada uma lista de números inteiros, faça um programa que responda a soma de todos os números pares na lista e o produto de todos os números ímpares.\n",
    "\n",
    "lista3 = [2, 7, 8, 1, 4, 3, 9, 2]\n",
    "pares = 0\n",
    "impares = 1\n",
    "for i in lista3:\n",
    "    if i % 2 == 0:\n",
    "        pares = pares + i\n",
    "    else:\n",
    "        impares = impares * i\n",
    "\n",
    "print(f'A soma dos pares é {pares}, o produto dos impares é {impares}')"
   ]
  },
  {
   "cell_type": "code",
   "execution_count": null,
   "metadata": {},
   "outputs": [],
   "source": []
  }
 ]
}